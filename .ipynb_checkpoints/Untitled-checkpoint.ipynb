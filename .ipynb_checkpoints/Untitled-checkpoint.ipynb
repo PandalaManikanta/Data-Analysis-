{
 "cells": [
  {
   "cell_type": "markdown",
   "metadata": {},
   "source": [
    "# manikanta\n"
   ]
  },
  {
   "cell_type": "code",
   "execution_count": null,
   "metadata": {},
   "outputs": [],
   "source": []
  },
  {
   "cell_type": "code",
   "execution_count": 8,
   "metadata": {},
   "outputs": [
    {
     "name": "stdout",
     "output_type": "stream",
     "text": [
      "7\n",
      "\n",
      "0\n",
      "01\n",
      "012\n",
      "0123\n",
      "01234\n",
      "012345\n"
     ]
    }
   ],
   "source": [
    "k=int(input())\n",
    "for i in range(k):\n",
    "    for j in range(i):\n",
    "        print(j,end=\"\")\n",
    "    print(\"\")\n",
    "    "
   ]
  },
  {
   "cell_type": "markdown",
   "metadata": {},
   "source": [
    "- welcome to ml\n"
   ]
  },
  {
   "cell_type": "markdown",
   "metadata": {},
   "source": [
    "- gbdfggjnfg **vbhgh** ~fghfgh~\n",
    "<img src=\"data:image/jpeg;base64,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\" width=100px height=100px>"
   ]
  },
  {
   "cell_type": "markdown",
   "metadata": {},
   "source": [
    "<img src=\"data:image/png;base64,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\">"
   ]
  },
  {
   "cell_type": "markdown",
   "metadata": {},
   "source": [
    "[nec](http://apssdc.in)"
   ]
  },
  {
   "cell_type": "markdown",
   "metadata": {},
   "source": [
    "## Files\n"
   ]
  },
  {
   "cell_type": "markdown",
   "metadata": {},
   "source": [
    "- open(filename,mode)\n",
    "   - mode=read(r)/write(w)/append(a)\n",
    "- read()\n",
    "- write()\n",
    "- readlines()\n",
    "- close()"
   ]
  },
  {
   "cell_type": "code",
   "execution_count": 23,
   "metadata": {},
   "outputs": [],
   "source": [
    "f=open('data.txt','w')\n",
    "data=\"welcome to world\"\n",
    "f.write(data)\n",
    "f.close()"
   ]
  },
  {
   "cell_type": "code",
   "execution_count": 26,
   "metadata": {},
   "outputs": [],
   "source": [
    "f=open('data.txt','a')\n",
    "s='\\n manikanta'\n",
    "f.write(s)\n",
    "f.close()"
   ]
  },
  {
   "cell_type": "code",
   "execution_count": 47,
   "metadata": {},
   "outputs": [
    {
     "name": "stdout",
     "output_type": "stream",
     "text": [
      "ravi 80 90 100\n",
      "ramu 70 60 50\n"
     ]
    }
   ],
   "source": [
    "f=open('marks.txt','r')\n",
    "k=f.read()\n",
    "print(k)"
   ]
  },
  {
   "cell_type": "code",
   "execution_count": 71,
   "metadata": {},
   "outputs": [
    {
     "name": "stdout",
     "output_type": "stream",
     "text": [
      "['ravi 80 90 100\\n', 'ramu 70 60 50']\n",
      "ravi 270\n",
      "ramu 180\n"
     ]
    }
   ],
   "source": [
    "f=open('marks.txt')\n",
    "f2=open('totalmarks.txt','w')\n",
    "d=f.readlines()\n",
    "print(d)\n",
    "for i in d:\n",
    "    words=i.split()\n",
    "    name=words[0]\n",
    "    #print(words[0],int(words[1])+int(words[2])+int(words[3]))\n",
    "    total=list(map(int,words[1:]))\n",
    "    total=sum(total)\n",
    "    print(name,total)\n",
    "    f2.write(name+\" \"+str(total)+\"\\n\")\n",
    "f2.close()"
   ]
  },
  {
   "cell_type": "code",
   "execution_count": 4,
   "metadata": {},
   "outputs": [],
   "source": [
    "f4=open(\"number.txt\",\"w\")\n",
    "l=f4.readlines\n",
    "f4.close()"
   ]
  },
  {
   "cell_type": "markdown",
   "metadata": {},
   "source": [
    "# regular expression"
   ]
  },
  {
   "cell_type": "code",
   "execution_count": 5,
   "metadata": {},
   "outputs": [],
   "source": [
    "import re"
   ]
  },
  {
   "cell_type": "markdown",
   "metadata": {},
   "source": [
    "## re methods\n",
    "### re.match(pattern,string)\n",
    "###  re.search()\n",
    "### re.findall()\n"
   ]
  },
  {
   "cell_type": "code",
   "execution_count": 10,
   "metadata": {},
   "outputs": [
    {
     "data": {
      "text/plain": [
       "<re.Match object; span=(0, 1), match='r'>"
      ]
     },
     "execution_count": 10,
     "metadata": {},
     "output_type": "execute_result"
    }
   ],
   "source": [
    "a='ravi'\n",
    "re.match('r',a)#it only gives output when it checking value  first character is found."
   ]
  },
  {
   "cell_type": "code",
   "execution_count": 11,
   "metadata": {},
   "outputs": [
    {
     "data": {
      "text/plain": [
       "<re.Match object; span=(2, 3), match='v'>"
      ]
     },
     "execution_count": 11,
     "metadata": {},
     "output_type": "execute_result"
    }
   ],
   "source": [
    "a='ravi'\n",
    "re.search('v',a)#it gives the output at any position checking."
   ]
  },
  {
   "cell_type": "code",
   "execution_count": 12,
   "metadata": {},
   "outputs": [
    {
     "data": {
      "text/plain": [
       "<re.Match object; span=(2, 3), match='v'>"
      ]
     },
     "execution_count": 12,
     "metadata": {},
     "output_type": "execute_result"
    }
   ],
   "source": [
    "a=\"ravivi\"\n",
    "re.search('v',a)#it gives only first occurance. To get the both occurances we use findall()"
   ]
  },
  {
   "cell_type": "code",
   "execution_count": 13,
   "metadata": {},
   "outputs": [
    {
     "data": {
      "text/plain": [
       "['v', 'v']"
      ]
     },
     "execution_count": 13,
     "metadata": {},
     "output_type": "execute_result"
    }
   ],
   "source": [
    "a=\"ravivi\"\n",
    "re.findall(\"v\",a)#it generates the all matched elements in list."
   ]
  },
  {
   "cell_type": "markdown",
   "metadata": {},
   "source": [
    "# ^ matches the beginning of the line."
   ]
  },
  {
   "cell_type": "code",
   "execution_count": 18,
   "metadata": {},
   "outputs": [
    {
     "data": {
      "text/plain": [
       "<re.Match object; span=(0, 1), match='r'>"
      ]
     },
     "execution_count": 18,
     "metadata": {},
     "output_type": "execute_result"
    }
   ],
   "source": [
    "a='ravi'\n",
    "re.search('^r',a)#it matches the first line it is not present at first letter than it doesnt prosuce output."
   ]
  },
  {
   "cell_type": "markdown",
   "metadata": {},
   "source": [
    "# $ matches the ending of aline."
   ]
  },
  {
   "cell_type": "code",
   "execution_count": 19,
   "metadata": {},
   "outputs": [
    {
     "data": {
      "text/plain": [
       "<re.Match object; span=(7, 8), match='i'>"
      ]
     },
     "execution_count": 19,
     "metadata": {},
     "output_type": "execute_result"
    }
   ],
   "source": [
    "a=\"ravbdfgi\"\n",
    "re.search(\"i$\",a)#it checks the ending of astring."
   ]
  },
  {
   "cell_type": "markdown",
   "metadata": {},
   "source": [
    "# . matches the any character"
   ]
  },
  {
   "cell_type": "code",
   "execution_count": 23,
   "metadata": {},
   "outputs": [
    {
     "data": {
      "text/plain": [
       "<re.Match object; span=(4, 5), match='$'>"
      ]
     },
     "execution_count": 23,
     "metadata": {},
     "output_type": "execute_result"
    }
   ],
   "source": [
    "a=\"mani$\"\n",
    "re.search(\".$\",a)"
   ]
  },
  {
   "cell_type": "code",
   "execution_count": 26,
   "metadata": {},
   "outputs": [
    {
     "data": {
      "text/plain": [
       "<re.Match object; span=(0, 4), match='mani'>"
      ]
     },
     "execution_count": 26,
     "metadata": {},
     "output_type": "execute_result"
    }
   ],
   "source": [
    "a=\"manifiii\"\n",
    "re.search(\"....\",a)#it matches the number of dots in string."
   ]
  },
  {
   "cell_type": "code",
   "execution_count": 32,
   "metadata": {},
   "outputs": [
    {
     "name": "stdout",
     "output_type": "stream",
     "text": [
      "mani\n",
      "anil\n",
      "ramuka\n"
     ]
    }
   ],
   "source": [
    "a=['mani','anil','ramuka']\n",
    "for i in a:\n",
    "    if re.search('....',i):\n",
    "        print(i)#or re.search('.{4}',i)"
   ]
  },
  {
   "cell_type": "code",
   "execution_count": 34,
   "metadata": {},
   "outputs": [
    {
     "name": "stdout",
     "output_type": "stream",
     "text": [
      "mani\n",
      "anil\n"
     ]
    }
   ],
   "source": [
    "a=['mani','anil','ramuka']\n",
    "for i in a:\n",
    "    if re.search('^.{4}$',i): #re.search('^.{4,6}$',i) output:mani anil ramuka\n",
    "        print(i)#or re.search('.{4}',i)"
   ]
  },
  {
   "cell_type": "code",
   "execution_count": 38,
   "metadata": {},
   "outputs": [
    {
     "name": "stdout",
     "output_type": "stream",
     "text": [
      "madavi\n"
     ]
    }
   ],
   "source": [
    "a=['mani','anil','ramuka','madavi']\n",
    "for i in a:\n",
    "    if re.search('^m.{4,6}$',i):#the range between 4 and 6 will be printed with starting m letter\n",
    "        print(i)"
   ]
  },
  {
   "cell_type": "markdown",
   "metadata": {},
   "source": [
    "# \\d matches the digits only"
   ]
  },
  {
   "cell_type": "code",
   "execution_count": 39,
   "metadata": {},
   "outputs": [
    {
     "data": {
      "text/plain": [
       "<re.Match object; span=(4, 5), match='2'>"
      ]
     },
     "execution_count": 39,
     "metadata": {},
     "output_type": "execute_result"
    }
   ],
   "source": [
    "a=\"ravi2\"\n",
    "re.search('\\d',a)#matches the number."
   ]
  },
  {
   "cell_type": "code",
   "execution_count": 43,
   "metadata": {},
   "outputs": [
    {
     "data": {
      "text/plain": [
       "<re.Match object; span=(4, 7), match='256'>"
      ]
     },
     "execution_count": 43,
     "metadata": {},
     "output_type": "execute_result"
    }
   ],
   "source": [
    "a=\"ravi256\"\n",
    "re.search('\\d+',a)# + is used to match the continuous numbers."
   ]
  },
  {
   "cell_type": "code",
   "execution_count": 44,
   "metadata": {},
   "outputs": [
    {
     "data": {
      "text/plain": [
       "<re.Match object; span=(2, 4), match='43'>"
      ]
     },
     "execution_count": 44,
     "metadata": {},
     "output_type": "execute_result"
    }
   ],
   "source": [
    "a=\"ra43vi256\"\n",
    "re.search('\\d+',a)# it is only for continuous numbers."
   ]
  },
  {
   "cell_type": "markdown",
   "metadata": {},
   "source": [
    "a=\"ra43vi256\"\n",
    "re.findall('\\d+',a)# with findall we can match the numbers in the string and stores in list."
   ]
  },
  {
   "cell_type": "markdown",
   "metadata": {},
   "source": [
    "##  \\D is used for non digits (alphabets and special characters)"
   ]
  },
  {
   "cell_type": "code",
   "execution_count": 46,
   "metadata": {},
   "outputs": [
    {
     "data": {
      "text/plain": [
       "<re.Match object; span=(0, 2), match='ra'>"
      ]
     },
     "execution_count": 46,
     "metadata": {},
     "output_type": "execute_result"
    }
   ],
   "source": [
    "a=\"ra43vi256\"\n",
    "re.search('\\D+',a)#for continuos data"
   ]
  },
  {
   "cell_type": "code",
   "execution_count": 49,
   "metadata": {},
   "outputs": [
    {
     "data": {
      "text/plain": [
       "<re.Match object; span=(0, 1), match='r'>"
      ]
     },
     "execution_count": 49,
     "metadata": {},
     "output_type": "execute_result"
    }
   ],
   "source": [
    "a=\"ra43vi256\"\n",
    "re.search('\\D',a)#only one character is printed."
   ]
  },
  {
   "cell_type": "code",
   "execution_count": 50,
   "metadata": {},
   "outputs": [
    {
     "data": {
      "text/plain": [
       "['r', 'a', 'v', 'i']"
      ]
     },
     "execution_count": 50,
     "metadata": {},
     "output_type": "execute_result"
    }
   ],
   "source": [
    "a=\"ra43vi256\"\n",
    "re.findall('\\D',a)#produces single characters."
   ]
  },
  {
   "cell_type": "code",
   "execution_count": 48,
   "metadata": {},
   "outputs": [
    {
     "data": {
      "text/plain": [
       "['ra', 'vi']"
      ]
     },
     "execution_count": 48,
     "metadata": {},
     "output_type": "execute_result"
    }
   ],
   "source": [
    "a=\"ra43vi256\"\n",
    "re.findall('\\D+',a)#for all at any data"
   ]
  },
  {
   "cell_type": "markdown",
   "metadata": {},
   "source": [
    "## \\W used to match the special characters only."
   ]
  },
  {
   "cell_type": "code",
   "execution_count": 55,
   "metadata": {},
   "outputs": [
    {
     "data": {
      "text/plain": [
       "['@#$', '$#']"
      ]
     },
     "execution_count": 55,
     "metadata": {},
     "output_type": "execute_result"
    }
   ],
   "source": [
    "a=\"ra4@#$3vi256$#\"\n",
    "re.findall('\\W+',a)"
   ]
  },
  {
   "cell_type": "code",
   "execution_count": 53,
   "metadata": {},
   "outputs": [
    {
     "data": {
      "text/plain": [
       "<re.Match object; span=(8, 9), match='#'>"
      ]
     },
     "execution_count": 53,
     "metadata": {},
     "output_type": "execute_result"
    }
   ],
   "source": [
    "a=\"ra43vi25#$6\"\n",
    "re.search('\\W',a)"
   ]
  },
  {
   "cell_type": "code",
   "execution_count": 54,
   "metadata": {},
   "outputs": [
    {
     "data": {
      "text/plain": [
       "['$', '#', '%', '#', '%']"
      ]
     },
     "execution_count": 54,
     "metadata": {},
     "output_type": "execute_result"
    }
   ],
   "source": [
    "a=\"ra43vi25645$#%#%\"\n",
    "re.findall('\\W',a)"
   ]
  },
  {
   "cell_type": "code",
   "execution_count": 75,
   "metadata": {},
   "outputs": [
    {
     "data": {
      "text/plain": [
       "['m']"
      ]
     },
     "execution_count": 75,
     "metadata": {},
     "output_type": "execute_result"
    }
   ],
   "source": [
    "a=\"pandalamani11@gmail.com\"\n",
    "re.findall('.$',a)"
   ]
  },
  {
   "cell_type": "code",
   "execution_count": 79,
   "metadata": {},
   "outputs": [
    {
     "data": {
      "text/plain": [
       "['pandalamani', '@gmail.com']"
      ]
     },
     "execution_count": 79,
     "metadata": {},
     "output_type": "execute_result"
    }
   ],
   "source": [
    "a=\"pandalamani11@gmail.com\"\n",
    "re.findall(\"\\D+\",a)"
   ]
  },
  {
   "cell_type": "markdown",
   "metadata": {},
   "source": [
    "## \\s matches the  white spaces."
   ]
  },
  {
   "cell_type": "code",
   "execution_count": 87,
   "metadata": {},
   "outputs": [
    {
     "data": {
      "text/plain": [
       "<re.Match object; span=(8, 9), match=' '>"
      ]
     },
     "execution_count": 87,
     "metadata": {},
     "output_type": "execute_result"
    }
   ],
   "source": [
    "a=\"maniikan   rtba\"\n",
    "re.search(\"\\s\",a)"
   ]
  },
  {
   "cell_type": "code",
   "execution_count": 86,
   "metadata": {},
   "outputs": [
    {
     "data": {
      "text/plain": [
       "[' ', ' ', ' ', ' ', ' ']"
      ]
     },
     "execution_count": 86,
     "metadata": {},
     "output_type": "execute_result"
    }
   ],
   "source": [
    "a=\"mani  ikan   rtba\"\n",
    "re.findall(\"\\s\",a)"
   ]
  },
  {
   "cell_type": "markdown",
   "metadata": {},
   "source": [
    "##  alphabets in listed list"
   ]
  },
  {
   "cell_type": "code",
   "execution_count": 88,
   "metadata": {},
   "outputs": [
    {
     "data": {
      "text/plain": [
       "<re.Match object; span=(0, 1), match='r'>"
      ]
     },
     "execution_count": 88,
     "metadata": {},
     "output_type": "execute_result"
    }
   ],
   "source": [
    "re.search('[a-z]','ravi 956')"
   ]
  },
  {
   "cell_type": "code",
   "execution_count": 89,
   "metadata": {},
   "outputs": [
    {
     "data": {
      "text/plain": [
       "['r', 'a', 'v', 'i']"
      ]
     },
     "execution_count": 89,
     "metadata": {},
     "output_type": "execute_result"
    }
   ],
   "source": [
    "re.findall('[a-z]','ravi 956')"
   ]
  },
  {
   "cell_type": "code",
   "execution_count": 90,
   "metadata": {},
   "outputs": [
    {
     "data": {
      "text/plain": [
       "<re.Match object; span=(0, 4), match='ravi'>"
      ]
     },
     "execution_count": 90,
     "metadata": {},
     "output_type": "execute_result"
    }
   ],
   "source": [
    "re.search('[a-z]+','ravi 956')"
   ]
  },
  {
   "cell_type": "code",
   "execution_count": 91,
   "metadata": {},
   "outputs": [
    {
     "data": {
      "text/plain": [
       "<re.Match object; span=(4, 8), match=' 956'>"
      ]
     },
     "execution_count": 91,
     "metadata": {},
     "output_type": "execute_result"
    }
   ],
   "source": [
    "re.search('[^a-z]+','ravi 956')"
   ]
  },
  {
   "cell_type": "code",
   "execution_count": 92,
   "metadata": {},
   "outputs": [
    {
     "data": {
      "text/plain": [
       "<re.Match object; span=(0, 4), match='ravi'>"
      ]
     },
     "execution_count": 92,
     "metadata": {},
     "output_type": "execute_result"
    }
   ],
   "source": [
    "re.search('^[a-z]+','ravi 956')"
   ]
  },
  {
   "cell_type": "code",
   "execution_count": 93,
   "metadata": {},
   "outputs": [
    {
     "data": {
      "text/plain": [
       "<re.Match object; span=(5, 8), match='956'>"
      ]
     },
     "execution_count": 93,
     "metadata": {},
     "output_type": "execute_result"
    }
   ],
   "source": [
    "re.search('[0-9]+','ravi 956')"
   ]
  },
  {
   "cell_type": "code",
   "execution_count": 97,
   "metadata": {},
   "outputs": [
    {
     "name": "stdout",
     "output_type": "stream",
     "text": [
      "78\n",
      "65\n",
      "87\n",
      "230\n"
     ]
    }
   ],
   "source": [
    "A=['mani','78','65','87']\n",
    "s=0\n",
    "for i in A:\n",
    "    if re.search('[0-9]+',i):\n",
    "        print(i)\n",
    "        s+=int(i)\n",
    "print(s)"
   ]
  },
  {
   "cell_type": "code",
   "execution_count": 108,
   "metadata": {},
   "outputs": [
    {
     "name": "stdout",
     "output_type": "stream",
     "text": [
      "['welcoome', 'to', '123', '546', '12', 'days']\n",
      "681\n"
     ]
    }
   ],
   "source": [
    "f=open('total.txt','r')\n",
    "s=f.readlines()\n",
    "for i in s:\n",
    "    words=i.split()\n",
    "    total=int(words[2])+int(words[3])+int(words[4])\n",
    "print(words)\n",
    "print(total)\n",
    "f.close()"
   ]
  },
  {
   "cell_type": "code",
   "execution_count": null,
   "metadata": {},
   "outputs": [],
   "source": [
    "f=open('total.txt','r')\n",
    "s=f.readlines()\n",
    "for i in s:\n",
    "    words=i.split()\n",
    "    \n",
    "print(words)\n",
    "print(total)\n",
    "f.close()"
   ]
  }
 ],
 "metadata": {
  "kernelspec": {
   "display_name": "Python 3",
   "language": "python",
   "name": "python3"
  },
  "language_info": {
   "codemirror_mode": {
    "name": "ipython",
    "version": 3
   },
   "file_extension": ".py",
   "mimetype": "text/x-python",
   "name": "python",
   "nbconvert_exporter": "python",
   "pygments_lexer": "ipython3",
   "version": "3.8.5"
  }
 },
 "nbformat": 4,
 "nbformat_minor": 4
}
